{
  "nbformat": 4,
  "nbformat_minor": 0,
  "metadata": {
    "colab": {
      "name": "Exercise_1.ipynb",
      "provenance": [],
      "authorship_tag": "ABX9TyMaFCGDfBiiY/kLEFHu2avF",
      "include_colab_link": true
    },
    "kernelspec": {
      "name": "python3",
      "display_name": "Python 3"
    },
    "accelerator": "GPU"
  },
  "cells": [
    {
      "cell_type": "markdown",
      "metadata": {
        "id": "view-in-github",
        "colab_type": "text"
      },
      "source": [
        "<a href=\"https://colab.research.google.com/github/dharnashukla94/Experiments_with_Neon_Framework/blob/master/Exercise_1.ipynb\" target=\"_parent\"><img src=\"https://colab.research.google.com/assets/colab-badge.svg\" alt=\"Open In Colab\"/></a>"
      ]
    },
    {
      "cell_type": "code",
      "metadata": {
        "id": "ilt328r62tD1",
        "colab_type": "code",
        "outputId": "466891e2-d052-4cc8-d2a7-6f6992e2b00e",
        "colab": {
          "base_uri": "https://localhost:8080/",
          "height": 1000
        }
      },
      "source": [
        "pip install nervananeon"
      ],
      "execution_count": 0,
      "outputs": [
        {
          "output_type": "stream",
          "text": [
            "Collecting nervananeon\n",
            "\u001b[?25l  Downloading https://files.pythonhosted.org/packages/c6/71/4e8f2c1ff5318d21952a80b83d8eeb6bf48c7c3a7f41ceac97d6e8b8e537/nervananeon-2.6.0-py3-none-any.whl (78.5MB)\n",
            "\u001b[K     |████████████████████████████████| 78.5MB 42kB/s \n",
            "\u001b[?25hCollecting configargparse\n",
            "\u001b[?25l  Downloading https://files.pythonhosted.org/packages/bb/79/3045743bb26ca2e44a1d317c37395462bfed82dbbd38e69a3280b63696ce/ConfigArgParse-1.2.3.tar.gz (42kB)\n",
            "\u001b[K     |████████████████████████████████| 51kB 7.9MB/s \n",
            "\u001b[?25hRequirement already satisfied: cffi in /usr/local/lib/python3.6/dist-packages (from nervananeon) (1.14.0)\n",
            "Requirement already satisfied: sphinx in /usr/local/lib/python3.6/dist-packages (from nervananeon) (1.8.5)\n",
            "Collecting pylint\n",
            "\u001b[?25l  Downloading https://files.pythonhosted.org/packages/37/6e/36419ec1bd2208e157dff7fc3e565b185394c0dc4901e9e2f983cb1d4b7f/pylint-2.5.2-py3-none-any.whl (324kB)\n",
            "\u001b[K     |████████████████████████████████| 327kB 54.8MB/s \n",
            "\u001b[?25hCollecting flake8\n",
            "\u001b[?25l  Downloading https://files.pythonhosted.org/packages/ea/35/dcf9a3393305bfc61854b764b5aeb79a72493e77991eead133c189d7868e/flake8-3.8.2-py2.py3-none-any.whl (72kB)\n",
            "\u001b[K     |████████████████████████████████| 81kB 11.7MB/s \n",
            "\u001b[?25hCollecting appdirs\n",
            "  Downloading https://files.pythonhosted.org/packages/3b/00/2344469e2084fb287c2e0b57b72910309874c3245463acd6cf5e3db69324/appdirs-1.4.4-py2.py3-none-any.whl\n",
            "Requirement already satisfied: h5py in /usr/local/lib/python3.6/dist-packages (from nervananeon) (2.10.0)\n",
            "Collecting pep8\n",
            "\u001b[?25l  Downloading https://files.pythonhosted.org/packages/42/3f/669429ce58de2c22d8d2c542752e137ec4b9885fff398d3eceb1a7f5acb4/pep8-1.7.1-py2.py3-none-any.whl (41kB)\n",
            "\u001b[K     |████████████████████████████████| 51kB 9.5MB/s \n",
            "\u001b[?25hCollecting pytest-mock\n",
            "  Downloading https://files.pythonhosted.org/packages/fa/e1/f8a889f917b295c04bfc0ab7135405d59eff9ed9e8519fd74dd97afc1566/pytest_mock-3.1.1-py3-none-any.whl\n",
            "Collecting posix-ipc\n",
            "\u001b[?25l  Downloading https://files.pythonhosted.org/packages/c9/3e/54217da71aa26b488295d878df4d3132093253b4ae5798ac66fcb6921ef0/posix_ipc-1.0.4.tar.gz (78kB)\n",
            "\u001b[K     |████████████████████████████████| 81kB 8.8MB/s \n",
            "\u001b[?25hRequirement already satisfied: numpy in /usr/local/lib/python3.6/dist-packages (from nervananeon) (1.18.4)\n",
            "Requirement already satisfied: future in /usr/local/lib/python3.6/dist-packages (from nervananeon) (0.16.0)\n",
            "Collecting pandoc\n",
            "\u001b[?25l  Downloading https://files.pythonhosted.org/packages/49/b1/d2d4b30ee81ea5cb7aee5ba3591752a637fdc49d0a42fa9683874b60b9fb/pandoc-1.0.2.tar.gz (488kB)\n",
            "\u001b[K     |████████████████████████████████| 491kB 42.7MB/s \n",
            "\u001b[?25hCollecting py-cpuinfo\n",
            "\u001b[?25l  Downloading https://files.pythonhosted.org/packages/42/60/63f28a5401da733043abe7053e7d9591491b4784c4f87c339bf51215aa0a/py-cpuinfo-5.0.0.tar.gz (82kB)\n",
            "\u001b[K     |████████████████████████████████| 92kB 13.9MB/s \n",
            "\u001b[?25hCollecting pytest-cov\n",
            "  Downloading https://files.pythonhosted.org/packages/b4/4d/56896f913ea61f0ba504c912bdd748f11e45ef14d5d40975bc8322dccfa0/pytest_cov-2.9.0-py2.py3-none-any.whl\n",
            "Requirement already satisfied: tqdm in /usr/local/lib/python3.6/dist-packages (from nervananeon) (4.41.1)\n",
            "Collecting pypandoc\n",
            "  Downloading https://files.pythonhosted.org/packages/d6/b7/5050dc1769c8a93d3ec7c4bd55be161991c94b8b235f88bf7c764449e708/pypandoc-1.5.tar.gz\n",
            "Requirement already satisfied: filelock in /usr/local/lib/python3.6/dist-packages (from nervananeon) (3.0.12)\n",
            "Requirement already satisfied: pytest in /usr/local/lib/python3.6/dist-packages (from nervananeon) (3.6.4)\n",
            "Requirement already satisfied: pillow in /usr/local/lib/python3.6/dist-packages (from nervananeon) (7.0.0)\n",
            "Requirement already satisfied: pyyaml in /usr/local/lib/python3.6/dist-packages (from nervananeon) (3.13)\n",
            "Requirement already satisfied: pycparser in /usr/local/lib/python3.6/dist-packages (from cffi->nervananeon) (2.20)\n",
            "Requirement already satisfied: docutils>=0.11 in /usr/local/lib/python3.6/dist-packages (from sphinx->nervananeon) (0.15.2)\n",
            "Requirement already satisfied: babel!=2.0,>=1.3 in /usr/local/lib/python3.6/dist-packages (from sphinx->nervananeon) (2.8.0)\n",
            "Requirement already satisfied: imagesize in /usr/local/lib/python3.6/dist-packages (from sphinx->nervananeon) (1.2.0)\n",
            "Requirement already satisfied: packaging in /usr/local/lib/python3.6/dist-packages (from sphinx->nervananeon) (20.4)\n",
            "Requirement already satisfied: Pygments>=2.0 in /usr/local/lib/python3.6/dist-packages (from sphinx->nervananeon) (2.1.3)\n",
            "Requirement already satisfied: snowballstemmer>=1.1 in /usr/local/lib/python3.6/dist-packages (from sphinx->nervananeon) (2.0.0)\n",
            "Requirement already satisfied: requests>=2.0.0 in /usr/local/lib/python3.6/dist-packages (from sphinx->nervananeon) (2.23.0)\n",
            "Requirement already satisfied: setuptools in /usr/local/lib/python3.6/dist-packages (from sphinx->nervananeon) (47.1.1)\n",
            "Requirement already satisfied: alabaster<0.8,>=0.7 in /usr/local/lib/python3.6/dist-packages (from sphinx->nervananeon) (0.7.12)\n",
            "Requirement already satisfied: sphinxcontrib-websupport in /usr/local/lib/python3.6/dist-packages (from sphinx->nervananeon) (1.2.2)\n",
            "Requirement already satisfied: six>=1.5 in /usr/local/lib/python3.6/dist-packages (from sphinx->nervananeon) (1.12.0)\n",
            "Requirement already satisfied: Jinja2>=2.3 in /usr/local/lib/python3.6/dist-packages (from sphinx->nervananeon) (2.11.2)\n",
            "Collecting isort<5,>=4.2.5\n",
            "\u001b[?25l  Downloading https://files.pythonhosted.org/packages/e5/b0/c121fd1fa3419ea9bfd55c7f9c4fedfec5143208d8c7ad3ce3db6c623c21/isort-4.3.21-py2.py3-none-any.whl (42kB)\n",
            "\u001b[K     |████████████████████████████████| 51kB 8.1MB/s \n",
            "\u001b[?25hCollecting mccabe<0.7,>=0.6\n",
            "  Downloading https://files.pythonhosted.org/packages/87/89/479dc97e18549e21354893e4ee4ef36db1d237534982482c3681ee6e7b57/mccabe-0.6.1-py2.py3-none-any.whl\n",
            "Collecting astroid<=2.5,>=2.4.0\n",
            "\u001b[?25l  Downloading https://files.pythonhosted.org/packages/46/c9/e9c2642dfb169590fb8bdb395f9329da042ee559c2ae7c1e612a3e5f40b4/astroid-2.4.1-py3-none-any.whl (214kB)\n",
            "\u001b[K     |████████████████████████████████| 215kB 59.7MB/s \n",
            "\u001b[?25hCollecting toml>=0.7.1\n",
            "  Downloading https://files.pythonhosted.org/packages/9f/e1/1b40b80f2e1663a6b9f497123c11d7d988c0919abbf3c3f2688e448c5363/toml-0.10.1-py2.py3-none-any.whl\n",
            "Requirement already satisfied: importlib-metadata; python_version < \"3.8\" in /usr/local/lib/python3.6/dist-packages (from flake8->nervananeon) (1.6.0)\n",
            "Collecting pycodestyle<2.7.0,>=2.6.0a1\n",
            "\u001b[?25l  Downloading https://files.pythonhosted.org/packages/10/5b/88879fb861ab79aef45c7e199cae3ef7af487b5603dcb363517a50602dd7/pycodestyle-2.6.0-py2.py3-none-any.whl (41kB)\n",
            "\u001b[K     |████████████████████████████████| 51kB 6.7MB/s \n",
            "\u001b[?25hCollecting pyflakes<2.3.0,>=2.2.0\n",
            "\u001b[?25l  Downloading https://files.pythonhosted.org/packages/69/5b/fd01b0c696f2f9a6d2c839883b642493b431f28fa32b29abc465ef675473/pyflakes-2.2.0-py2.py3-none-any.whl (66kB)\n",
            "\u001b[K     |████████████████████████████████| 71kB 11.3MB/s \n",
            "\u001b[?25hCollecting ply\n",
            "\u001b[?25l  Downloading https://files.pythonhosted.org/packages/a3/58/35da89ee790598a0700ea49b2a66594140f44dec458c07e8e3d4979137fc/ply-3.11-py2.py3-none-any.whl (49kB)\n",
            "\u001b[K     |████████████████████████████████| 51kB 8.4MB/s \n",
            "\u001b[?25hCollecting coverage>=4.4\n",
            "\u001b[?25l  Downloading https://files.pythonhosted.org/packages/2a/3e/fc18ecef69f174c13493576f46966053c1da07fd8721962530dc1a10b1ca/coverage-5.1-cp36-cp36m-manylinux1_x86_64.whl (227kB)\n",
            "\u001b[K     |████████████████████████████████| 235kB 52.1MB/s \n",
            "\u001b[?25hRequirement already satisfied: pip>=8.1.0 in /usr/local/lib/python3.6/dist-packages (from pypandoc->nervananeon) (19.3.1)\n",
            "Requirement already satisfied: wheel>=0.25.0 in /usr/local/lib/python3.6/dist-packages (from pypandoc->nervananeon) (0.34.2)\n",
            "Requirement already satisfied: pluggy<0.8,>=0.5 in /usr/local/lib/python3.6/dist-packages (from pytest->nervananeon) (0.7.1)\n",
            "Requirement already satisfied: more-itertools>=4.0.0 in /usr/local/lib/python3.6/dist-packages (from pytest->nervananeon) (8.3.0)\n",
            "Requirement already satisfied: atomicwrites>=1.0 in /usr/local/lib/python3.6/dist-packages (from pytest->nervananeon) (1.4.0)\n",
            "Requirement already satisfied: py>=1.5.0 in /usr/local/lib/python3.6/dist-packages (from pytest->nervananeon) (1.8.1)\n",
            "Requirement already satisfied: attrs>=17.4.0 in /usr/local/lib/python3.6/dist-packages (from pytest->nervananeon) (19.3.0)\n",
            "Requirement already satisfied: pytz>=2015.7 in /usr/local/lib/python3.6/dist-packages (from babel!=2.0,>=1.3->sphinx->nervananeon) (2018.9)\n",
            "Requirement already satisfied: pyparsing>=2.0.2 in /usr/local/lib/python3.6/dist-packages (from packaging->sphinx->nervananeon) (2.4.7)\n",
            "Requirement already satisfied: urllib3!=1.25.0,!=1.25.1,<1.26,>=1.21.1 in /usr/local/lib/python3.6/dist-packages (from requests>=2.0.0->sphinx->nervananeon) (1.24.3)\n",
            "Requirement already satisfied: certifi>=2017.4.17 in /usr/local/lib/python3.6/dist-packages (from requests>=2.0.0->sphinx->nervananeon) (2020.4.5.1)\n",
            "Requirement already satisfied: idna<3,>=2.5 in /usr/local/lib/python3.6/dist-packages (from requests>=2.0.0->sphinx->nervananeon) (2.9)\n",
            "Requirement already satisfied: chardet<4,>=3.0.2 in /usr/local/lib/python3.6/dist-packages (from requests>=2.0.0->sphinx->nervananeon) (3.0.4)\n",
            "Requirement already satisfied: MarkupSafe>=0.23 in /usr/local/lib/python3.6/dist-packages (from Jinja2>=2.3->sphinx->nervananeon) (1.1.1)\n",
            "Collecting lazy-object-proxy==1.4.*\n",
            "\u001b[?25l  Downloading https://files.pythonhosted.org/packages/0b/dd/b1e3407e9e6913cf178e506cd0dee818e58694d9a5cd1984e3f6a8b9a10f/lazy_object_proxy-1.4.3-cp36-cp36m-manylinux1_x86_64.whl (55kB)\n",
            "\u001b[K     |████████████████████████████████| 61kB 9.8MB/s \n",
            "\u001b[?25hRequirement already satisfied: wrapt~=1.11 in /usr/local/lib/python3.6/dist-packages (from astroid<=2.5,>=2.4.0->pylint->nervananeon) (1.12.1)\n",
            "Collecting typed-ast<1.5,>=1.4.0; implementation_name == \"cpython\" and python_version < \"3.8\"\n",
            "\u001b[?25l  Downloading https://files.pythonhosted.org/packages/90/ed/5459080d95eb87a02fe860d447197be63b6e2b5e9ff73c2b0a85622994f4/typed_ast-1.4.1-cp36-cp36m-manylinux1_x86_64.whl (737kB)\n",
            "\u001b[K     |████████████████████████████████| 747kB 46.3MB/s \n",
            "\u001b[?25hRequirement already satisfied: zipp>=0.5 in /usr/local/lib/python3.6/dist-packages (from importlib-metadata; python_version < \"3.8\"->flake8->nervananeon) (3.1.0)\n",
            "Building wheels for collected packages: configargparse, posix-ipc, pandoc, py-cpuinfo, pypandoc\n",
            "  Building wheel for configargparse (setup.py) ... \u001b[?25l\u001b[?25hdone\n",
            "  Created wheel for configargparse: filename=ConfigArgParse-1.2.3-cp36-none-any.whl size=19328 sha256=4a57122af8e663c2e79684ef3b3b1b57dfe9da894ed1c76800acdaf5d6f94a12\n",
            "  Stored in directory: /root/.cache/pip/wheels/bd/d6/53/034032da9498bda2385cd50a51a289e88090b5da2d592b1fdf\n",
            "  Building wheel for posix-ipc (setup.py) ... \u001b[?25l\u001b[?25hdone\n",
            "  Created wheel for posix-ipc: filename=posix_ipc-1.0.4-cp36-cp36m-linux_x86_64.whl size=45099 sha256=b710956ff8f61c6317314cef53b4251a8361e1f5cc5b740806fc4c844531c2ce\n",
            "  Stored in directory: /root/.cache/pip/wheels/5a/5c/17/d0e2d421abaf3b4097bf9db11108380d734195c6d15c24269d\n",
            "  Building wheel for pandoc (setup.py) ... \u001b[?25l\u001b[?25hdone\n",
            "  Created wheel for pandoc: filename=pandoc-1.0.2-cp36-none-any.whl size=19993 sha256=6c3d35db69a6ba92e663e92371e7907ed946c21d48957bc8aee5a71e12bac181\n",
            "  Stored in directory: /root/.cache/pip/wheels/d1/e8/71/bc3242b3e8f119c62eebdb0dee519fd40ac293e4835839db7c\n",
            "  Building wheel for py-cpuinfo (setup.py) ... \u001b[?25l\u001b[?25hdone\n",
            "  Created wheel for py-cpuinfo: filename=py_cpuinfo-5.0.0-cp36-none-any.whl size=18684 sha256=7a11ba1a6ced3e7b26d5aa37e49352805f1f553b743be593812a65185c7a4975\n",
            "  Stored in directory: /root/.cache/pip/wheels/01/7e/a9/b982d0fea22b7e4ae5619de949570cde5ad55420cec16e86a5\n",
            "  Building wheel for pypandoc (setup.py) ... \u001b[?25l\u001b[?25hdone\n",
            "  Created wheel for pypandoc: filename=pypandoc-1.5-cp36-none-any.whl size=17037 sha256=691440489a24b13ea26bc41e75b895c06186085fb3d119fd846e98855f9dea62\n",
            "  Stored in directory: /root/.cache/pip/wheels/bb/7d/d6/2f9af55e800d37e42e546106bcbd36a86e24e725e303d17e04\n",
            "Successfully built configargparse posix-ipc pandoc py-cpuinfo pypandoc\n",
            "\u001b[31mERROR: datascience 0.10.6 has requirement coverage==3.7.1, but you'll have coverage 5.1 which is incompatible.\u001b[0m\n",
            "\u001b[31mERROR: datascience 0.10.6 has requirement folium==0.2.1, but you'll have folium 0.8.3 which is incompatible.\u001b[0m\n",
            "\u001b[31mERROR: coveralls 0.5 has requirement coverage<3.999,>=3.6, but you'll have coverage 5.1 which is incompatible.\u001b[0m\n",
            "Installing collected packages: configargparse, isort, mccabe, lazy-object-proxy, typed-ast, astroid, toml, pylint, pycodestyle, pyflakes, flake8, appdirs, pep8, pytest-mock, posix-ipc, ply, pandoc, py-cpuinfo, coverage, pytest-cov, pypandoc, nervananeon\n",
            "  Found existing installation: coverage 3.7.1\n",
            "    Uninstalling coverage-3.7.1:\n",
            "      Successfully uninstalled coverage-3.7.1\n",
            "Successfully installed appdirs-1.4.4 astroid-2.4.1 configargparse-1.2.3 coverage-5.1 flake8-3.8.2 isort-4.3.21 lazy-object-proxy-1.4.3 mccabe-0.6.1 nervananeon-2.6.0 pandoc-1.0.2 pep8-1.7.1 ply-3.11 posix-ipc-1.0.4 py-cpuinfo-5.0.0 pycodestyle-2.6.0 pyflakes-2.2.0 pylint-2.5.2 pypandoc-1.5 pytest-cov-2.9.0 pytest-mock-3.1.1 toml-0.10.1 typed-ast-1.4.1\n"
          ],
          "name": "stdout"
        }
      ]
    },
    {
      "cell_type": "code",
      "metadata": {
        "id": "ML-0coiz096f",
        "colab_type": "code",
        "colab": {}
      },
      "source": [
        "import gzip\n",
        "import pickle\n",
        "from PIL import Image\n",
        "import numpy as np\n",
        "from numpy import *\n",
        "from neon.data import MNIST\n",
        "from neon.backends import gen_backend\n",
        "from neon.initializers import Gaussian\n",
        "from neon.layers import Affine\n",
        "from neon.transforms import Rectlin, Softmax\n",
        "from neon.models import Model\n",
        "from neon.layers import GeneralizedCost\n",
        "from neon.transforms import CrossEntropyMulti\n",
        "from neon.optimizers import GradientDescentMomentum\n",
        "from neon.callbacks.callbacks import Callbacks\n",
        "from neon.transforms import Misclassification\n",
        "from matplotlib import pyplot as plt\n",
        "from skimage import data, color\n",
        "from skimage.transform import rescale, resize, downscale_local_mean\n"
      ],
      "execution_count": 0,
      "outputs": []
    },
    {
      "cell_type": "code",
      "metadata": {
        "id": "t-BL7wfS2G6T",
        "colab_type": "code",
        "colab": {}
      },
      "source": [
        "# Setting backend\n",
        "\n",
        "batch_size = 32\n",
        "\n",
        "be = gen_backend(batch_size=batch_size, backend='cpu')"
      ],
      "execution_count": 0,
      "outputs": []
    },
    {
      "cell_type": "code",
      "metadata": {
        "id": "SYV3vFSe0kJY",
        "colab_type": "code",
        "colab": {}
      },
      "source": [
        "# downloading Mnist Dataset\n",
        "\n",
        "mnist = MNIST(path='data/') # Mention the path to store Mnist dataset\n",
        "train_set = mnist.train_iter\n",
        "valid_set = mnist.valid_iter"
      ],
      "execution_count": 0,
      "outputs": []
    },
    {
      "cell_type": "code",
      "metadata": {
        "id": "4WlVyRwU0umD",
        "colab_type": "code",
        "colab": {}
      },
      "source": [
        "# Initializing the weights\n",
        "\n",
        "init_norm = Gaussian(loc=0.0, scale=0.01)"
      ],
      "execution_count": 0,
      "outputs": []
    },
    {
      "cell_type": "code",
      "metadata": {
        "id": "koqPAII824pb",
        "colab_type": "code",
        "colab": {}
      },
      "source": [
        "# Creating simple architecture with Feed Forward Network\n",
        "\n",
        "layers = []\n",
        "layers.append(Affine(nout=10, init=init_norm, activation=Rectlin()))\n",
        "layers.append(Affine(nout=10, init=init_norm,\n",
        "                     activation=Softmax()))"
      ],
      "execution_count": 0,
      "outputs": []
    },
    {
      "cell_type": "code",
      "metadata": {
        "id": "B6jamao130d2",
        "colab_type": "code",
        "colab": {}
      },
      "source": [
        "# initilazing the model\n",
        "\n",
        "mlp = Model(layers=layers)"
      ],
      "execution_count": 0,
      "outputs": []
    },
    {
      "cell_type": "code",
      "metadata": {
        "id": "3kVc3Xrw3_PD",
        "colab_type": "code",
        "colab": {}
      },
      "source": [
        "# Declaring cost function\n",
        "\n",
        "cost = GeneralizedCost(costfunc=CrossEntropyMulti())"
      ],
      "execution_count": 0,
      "outputs": []
    },
    {
      "cell_type": "code",
      "metadata": {
        "id": "GHdDeJLn43t8",
        "colab_type": "code",
        "outputId": "e6999dff-2c9a-4801-f765-ebe89020a2d1",
        "colab": {
          "base_uri": "https://localhost:8080/",
          "height": 71
        }
      },
      "source": [
        "# Optimizers\n",
        "optimizer = GradientDescentMomentum(0.0001, momentum_coef=0.9)\n",
        "callbacks = Callbacks(mlp, eval_set=valid_set)"
      ],
      "execution_count": 115,
      "outputs": [
        {
          "output_type": "stream",
          "text": [
            "/usr/local/lib/python3.6/dist-packages/neon/callbacks/callbacks.py:97: H5pyDeprecationWarning: The default file mode will change to 'r' (read-only) in h5py 3.0. To suppress this warning, pass the mode you need to h5py.File(), or set the global default h5.get_config().default_file_mode, or set the environment variable H5PY_DEFAULT_READONLY=1. Available modes are: 'r', 'r+', 'w', 'w-'/'x', 'a'. See the docs for details.\n",
            "  self.callback_data = h5py.File(self.name, driver='core', backing_store=False)\n"
          ],
          "name": "stderr"
        }
      ]
    },
    {
      "cell_type": "code",
      "metadata": {
        "id": "Kr7N62MP5EWO",
        "colab_type": "code",
        "outputId": "0d23e6b8-715a-4658-8407-4994759961f7",
        "colab": {
          "base_uri": "https://localhost:8080/",
          "height": 1000
        }
      },
      "source": [
        "# GRADED FUNCTION\n",
        "mlp.fit(train_set, optimizer=optimizer, num_epochs=100, cost=cost, callbacks=callbacks)"
      ],
      "execution_count": 116,
      "outputs": [
        {
          "output_type": "stream",
          "text": [
            "\r\rEpoch 0   [Train |                    |   42/1071 batches, 2.30 cost, 0.10s]"
          ],
          "name": "stdout"
        },
        {
          "output_type": "stream",
          "text": [
            "/usr/local/lib/python3.6/dist-packages/neon/backends/nervanacpu.py:680: FutureWarning: Using a non-tuple sequence for multidimensional indexing is deprecated; use `arr[tuple(seq)]` instead of `arr[seq]`. In the future this will be interpreted as an array index, `arr[np.array(seq)]`, which will result either in an error or a different result.\n",
            "  array_output[numpy_ind.tolist()] = 1\n"
          ],
          "name": "stderr"
        },
        {
          "output_type": "stream",
          "text": [
            "Epoch 0   [Train |████████████████████| 1071/1071 batches, 0.42 cost, 2.46s]\n",
            "Epoch 1   [Train |████████████████████| 1071/1071 batches, 0.42 cost, 2.95s]\n",
            "Epoch 2   [Train |████████████████████| 1071/1071 batches, 0.28 cost, 2.77s]\n",
            "Epoch 3   [Train |████████████████████| 1071/1071 batches, 0.31 cost, 2.91s]\n",
            "Epoch 4   [Train |████████████████████| 1071/1071 batches, 0.39 cost, 2.96s]\n",
            "Epoch 5   [Train |████████████████████| 1071/1071 batches, 0.29 cost, 2.94s]\n",
            "Epoch 6   [Train |████████████████████| 1071/1071 batches, 0.27 cost, 2.76s]\n",
            "Epoch 7   [Train |████████████████████| 1071/1071 batches, 0.28 cost, 2.82s]\n",
            "Epoch 8   [Train |████████████████████| 1071/1071 batches, 0.28 cost, 2.88s]\n",
            "Epoch 9   [Train |████████████████████| 1071/1071 batches, 0.32 cost, 2.81s]\n",
            "Epoch 10  [Train |████████████████████| 1071/1071 batches, 0.44 cost, 2.89s]\n",
            "Epoch 11  [Train |████████████████████| 1071/1071 batches, 0.52 cost, 2.87s]\n",
            "Epoch 12  [Train |████████████████████| 1071/1071 batches, 0.40 cost, 2.74s]\n",
            "Epoch 13  [Train |████████████████████| 1071/1071 batches, 0.40 cost, 2.80s]\n",
            "Epoch 14  [Train |████████████████████| 1071/1071 batches, 0.41 cost, 2.79s]\n",
            "Epoch 15  [Train |████████████████████| 1071/1071 batches, 0.68 cost, 2.88s]\n",
            "Epoch 16  [Train |████████████████████| 1071/1071 batches, 0.49 cost, 2.92s]\n",
            "Epoch 17  [Train |████████████████████| 1071/1071 batches, 0.67 cost, 2.88s]\n",
            "Epoch 18  [Train |████████████████████| 1071/1071 batches, 0.70 cost, 2.85s]\n",
            "Epoch 19  [Train |████████████████████| 1071/1071 batches, 0.64 cost, 2.84s]\n",
            "Epoch 20  [Train |████████████████████| 1071/1071 batches, 0.53 cost, 2.89s]\n",
            "Epoch 21  [Train |████████████████████| 1071/1071 batches, 0.54 cost, 2.83s]\n",
            "Epoch 22  [Train |████████████████████| 1071/1071 batches, 0.68 cost, 2.83s]\n",
            "Epoch 23  [Train |████████████████████| 1071/1071 batches, 0.67 cost, 2.82s]\n",
            "Epoch 24  [Train |████████████████████| 1071/1071 batches, 0.80 cost, 2.77s]\n",
            "Epoch 25  [Train |████████████████████| 1071/1071 batches, 0.71 cost, 2.94s]\n",
            "Epoch 26  [Train |████████████████████| 1071/1071 batches, 0.51 cost, 2.86s]\n",
            "Epoch 27  [Train |████████████████████| 1071/1071 batches, 0.65 cost, 3.03s]\n",
            "Epoch 28  [Train |████████████████████| 1071/1071 batches, 0.59 cost, 2.86s]\n",
            "Epoch 29  [Train |████████████████████| 1071/1071 batches, 0.53 cost, 2.82s]\n",
            "Epoch 30  [Train |████████████████████| 1071/1071 batches, 0.47 cost, 2.81s]\n",
            "Epoch 31  [Train |████████████████████| 1071/1071 batches, 0.60 cost, 2.81s]\n",
            "Epoch 32  [Train |████████████████████| 1071/1071 batches, 0.60 cost, 2.91s]\n",
            "Epoch 33  [Train |████████████████████| 1071/1071 batches, 0.54 cost, 2.88s]\n",
            "Epoch 34  [Train |████████████████████| 1071/1071 batches, 0.50 cost, 2.95s]\n",
            "Epoch 35  [Train |████████████████████| 1071/1071 batches, 0.53 cost, 2.91s]\n",
            "Epoch 36  [Train |████████████████████| 1071/1071 batches, 0.78 cost, 2.79s]\n",
            "Epoch 37  [Train |████████████████████| 1071/1071 batches, 0.80 cost, 2.80s]\n",
            "Epoch 38  [Train |████████████████████| 1071/1071 batches, 0.91 cost, 3.02s]\n",
            "Epoch 39  [Train |████████████████████| 1071/1071 batches, 0.84 cost, 2.85s]\n",
            "Epoch 40  [Train |████████████████████| 1071/1071 batches, 0.79 cost, 2.81s]\n",
            "Epoch 41  [Train |████████████████████| 1071/1071 batches, 0.85 cost, 2.82s]\n",
            "Epoch 42  [Train |████████████████████| 1071/1071 batches, 0.83 cost, 2.80s]\n",
            "Epoch 43  [Train |████████████████████| 1071/1071 batches, 0.77 cost, 2.94s]\n",
            "Epoch 44  [Train |████████████████████| 1071/1071 batches, 0.79 cost, 2.84s]\n",
            "Epoch 45  [Train |████████████████████| 1071/1071 batches, 0.75 cost, 2.82s]\n",
            "Epoch 46  [Train |████████████████████| 1071/1071 batches, 0.78 cost, 2.87s]\n",
            "Epoch 47  [Train |████████████████████| 1071/1071 batches, 0.85 cost, 2.99s]\n",
            "Epoch 48  [Train |████████████████████| 1071/1071 batches, 0.89 cost, 3.06s]\n",
            "Epoch 49  [Train |████████████████████| 1071/1071 batches, 0.73 cost, 3.00s]\n",
            "Epoch 50  [Train |████████████████████| 1071/1071 batches, 0.82 cost, 2.91s]\n",
            "Epoch 51  [Train |████████████████████| 1071/1071 batches, 0.74 cost, 2.90s]\n",
            "Epoch 52  [Train |████████████████████| 1071/1071 batches, 0.78 cost, 2.83s]\n",
            "Epoch 53  [Train |████████████████████| 1071/1071 batches, 0.75 cost, 2.93s]\n",
            "Epoch 54  [Train |████████████████████| 1071/1071 batches, 0.80 cost, 3.03s]\n",
            "Epoch 55  [Train |████████████████████| 1071/1071 batches, 0.87 cost, 2.83s]\n",
            "Epoch 56  [Train |████████████████████| 1071/1071 batches, 0.75 cost, 2.80s]\n",
            "Epoch 57  [Train |████████████████████| 1071/1071 batches, 1.05 cost, 2.81s]\n",
            "Epoch 58  [Train |████████████████████| 1071/1071 batches, 1.62 cost, 2.81s]\n",
            "Epoch 59  [Train |████████████████████| 1071/1071 batches, 1.78 cost, 2.89s]\n",
            "Epoch 60  [Train |████████████████████| 1071/1071 batches, 1.40 cost, 2.84s]\n",
            "Epoch 61  [Train |████████████████████| 1071/1071 batches, 1.60 cost, 2.97s]\n",
            "Epoch 62  [Train |████████████████████| 1071/1071 batches, 1.84 cost, 2.87s]\n",
            "Epoch 63  [Train |████████████████████| 1071/1071 batches, 1.80 cost, 2.86s]\n",
            "Epoch 64  [Train |████████████████████| 1071/1071 batches, 2.06 cost, 2.94s]\n",
            "Epoch 65  [Train |████████████████████| 1071/1071 batches, 2.06 cost, 2.88s]\n",
            "Epoch 66  [Train |████████████████████| 1071/1071 batches, 2.06 cost, 2.97s]\n",
            "Epoch 67  [Train |████████████████████| 1071/1071 batches, 2.06 cost, 3.05s]\n",
            "Epoch 68  [Train |████████████████████| 1071/1071 batches, 2.06 cost, 3.01s]\n",
            "Epoch 69  [Train |████████████████████| 1071/1071 batches, 2.06 cost, 2.94s]\n",
            "Epoch 70  [Train |████████████████████| 1071/1071 batches, 2.06 cost, 2.92s]\n",
            "Epoch 71  [Train |████████████████████| 1071/1071 batches, 2.06 cost, 2.90s]\n",
            "Epoch 72  [Train |████████████████████| 1071/1071 batches, 2.06 cost, 2.94s]\n",
            "Epoch 73  [Train |████████████████████| 1071/1071 batches, 2.06 cost, 2.87s]\n",
            "Epoch 74  [Train |████████████████████| 1071/1071 batches, 2.06 cost, 3.02s]\n",
            "Epoch 75  [Train |████████████████████| 1071/1071 batches, 2.07 cost, 3.08s]\n",
            "Epoch 76  [Train |████████████████████| 1071/1071 batches, 2.06 cost, 3.00s]\n",
            "Epoch 77  [Train |████████████████████| 1071/1071 batches, 2.06 cost, 2.96s]\n",
            "Epoch 78  [Train |████████████████████| 1071/1071 batches, 2.06 cost, 3.04s]\n",
            "Epoch 79  [Train |████████████████████| 1071/1071 batches, 2.06 cost, 2.91s]\n",
            "Epoch 80  [Train |████████████████████| 1071/1071 batches, 2.06 cost, 2.84s]\n",
            "Epoch 81  [Train |████████████████████| 1071/1071 batches, 2.06 cost, 2.88s]\n",
            "Epoch 82  [Train |████████████████████| 1071/1071 batches, 2.06 cost, 2.89s]\n",
            "Epoch 83  [Train |████████████████████| 1071/1071 batches, 2.06 cost, 2.89s]\n",
            "Epoch 84  [Train |████████████████████| 1071/1071 batches, 2.06 cost, 2.91s]\n",
            "Epoch 85  [Train |████████████████████| 1071/1071 batches, 2.06 cost, 2.97s]\n",
            "Epoch 86  [Train |████████████████████| 1071/1071 batches, 2.06 cost, 2.93s]\n",
            "Epoch 87  [Train |████████████████████| 1071/1071 batches, 2.06 cost, 2.84s]\n",
            "Epoch 88  [Train |████████████████████| 1071/1071 batches, 2.06 cost, 2.84s]\n",
            "Epoch 89  [Train |████████████████████| 1071/1071 batches, 2.06 cost, 2.90s]\n",
            "Epoch 90  [Train |████████████████████| 1071/1071 batches, 2.06 cost, 2.93s]\n",
            "Epoch 91  [Train |████████████████████| 1071/1071 batches, 2.06 cost, 2.90s]\n",
            "Epoch 92  [Train |████████████████████| 1071/1071 batches, 2.06 cost, 3.01s]\n",
            "Epoch 93  [Train |████████████████████| 1071/1071 batches, 2.06 cost, 2.94s]\n",
            "Epoch 94  [Train |████████████████████| 1071/1071 batches, 2.06 cost, 2.89s]\n",
            "Epoch 95  [Train |████████████████████| 1071/1071 batches, 2.06 cost, 2.84s]\n",
            "Epoch 96  [Train |████████████████████| 1071/1071 batches, 2.06 cost, 2.88s]\n",
            "Epoch 97  [Train |████████████████████| 1071/1071 batches, 2.06 cost, 3.07s]\n",
            "Epoch 98  [Train |████████████████████| 1071/1071 batches, 2.06 cost, 2.93s]\n",
            "Epoch 99  [Train |████████████████████| 1071/1071 batches, 2.06 cost, 2.82s]\n"
          ],
          "name": "stdout"
        }
      ]
    },
    {
      "cell_type": "code",
      "metadata": {
        "id": "2OOSBM0l5Zvz",
        "colab_type": "code",
        "outputId": "482b66a1-2fd2-48fe-deca-eae876c7d624",
        "colab": {
          "base_uri": "https://localhost:8080/",
          "height": 71
        }
      },
      "source": [
        "results = mlp.get_outputs(valid_set)"
      ],
      "execution_count": 118,
      "outputs": [
        {
          "output_type": "stream",
          "text": [
            "/usr/local/lib/python3.6/dist-packages/neon/backends/nervanacpu.py:680: FutureWarning: Using a non-tuple sequence for multidimensional indexing is deprecated; use `arr[tuple(seq)]` instead of `arr[seq]`. In the future this will be interpreted as an array index, `arr[np.array(seq)]`, which will result either in an error or a different result.\n",
            "  array_output[numpy_ind.tolist()] = 1\n"
          ],
          "name": "stderr"
        }
      ]
    },
    {
      "cell_type": "code",
      "metadata": {
        "id": "GpCemyx45d1Q",
        "colab_type": "code",
        "outputId": "d98a450e-fee7-407e-b0f2-cb20339a3f87",
        "colab": {
          "base_uri": "https://localhost:8080/",
          "height": 88
        }
      },
      "source": [
        "# evaluate the model on test_set using the misclassification metric\n",
        "error = mlp.eval(valid_set, metric=Misclassification())*100\n",
        "print('Misclassification error = %.1f%%' % error)"
      ],
      "execution_count": 119,
      "outputs": [
        {
          "output_type": "stream",
          "text": [
            "Misclassification error = 79.1%\n"
          ],
          "name": "stdout"
        },
        {
          "output_type": "stream",
          "text": [
            "/usr/local/lib/python3.6/dist-packages/neon/backends/nervanacpu.py:680: FutureWarning: Using a non-tuple sequence for multidimensional indexing is deprecated; use `arr[tuple(seq)]` instead of `arr[seq]`. In the future this will be interpreted as an array index, `arr[np.array(seq)]`, which will result either in an error or a different result.\n",
            "  array_output[numpy_ind.tolist()] = 1\n"
          ],
          "name": "stderr"
        }
      ]
    },
    {
      "cell_type": "code",
      "metadata": {
        "id": "Rnsg8lEJLpJ1",
        "colab_type": "code",
        "colab": {}
      },
      "source": [
        "# Unzipping file for inference\n",
        "\n",
        "with gzip.open('data/mnist.pkl.gz', 'rb') as f:\n",
        "    train_set, _ = pickle.load(f, encoding = 'ISO-8859-1')"
      ],
      "execution_count": 0,
      "outputs": []
    },
    {
      "cell_type": "code",
      "metadata": {
        "id": "sebkYdb-WnnO",
        "colab_type": "code",
        "colab": {}
      },
      "source": [
        "# Inference"
      ],
      "execution_count": 0,
      "outputs": []
    },
    {
      "cell_type": "code",
      "metadata": {
        "id": "mgwTDcL0SMbT",
        "colab_type": "code",
        "colab": {
          "base_uri": "https://localhost:8080/",
          "height": 282
        },
        "outputId": "d9682a13-c3b9-469c-8e94-600fe4feb939"
      },
      "source": [
        "img = []\n",
        "for i in train_set[0]:\n",
        "    img.append(i)\n",
        "\n",
        "plt.imshow(img[2],cmap='gray')\n",
        "print(img[1].shape)\n",
        "plt.savefig('data/digit2.jpg', cmap='gray')\n",
        "plt.show()    "
      ],
      "execution_count": 68,
      "outputs": [
        {
          "output_type": "stream",
          "text": [
            "(28, 28)\n"
          ],
          "name": "stdout"
        },
        {
          "output_type": "display_data",
          "data": {
            "image/png": "[encoded data removed]",
            "text/plain": [
              "<Figure size 432x288 with 1 Axes>"
            ]
          },
          "metadata": {
            "tags": [],
            "needs_background": "light"
          }
        }
      ]
    },
    {
      "cell_type": "code",
      "metadata": {
        "id": "qq9oiYcbS_1u",
        "colab_type": "code",
        "colab": {}
      },
      "source": [
        "# scale to 28x28 pixels\n",
        "\n",
        "im = Image.open('data/digit2.jpg')\n",
        "im = im.resize((28,28),Image.ANTIALIAS)\n",
        "#im.size\n",
        "digit = np.asarray(im, dtype=np.float32)[:, :, 0]\n",
        "\n",
        "# reshape to a single feature vector\n",
        "digit = digit.reshape(784, 1)\n",
        "\n",
        "# store digit into a GPU tensor\n",
        "x_new = be.zeros((28*28, batch_size), dtype=np.float32)\n",
        "x_new[:, 0] = digit"
      ],
      "execution_count": 0,
      "outputs": []
    },
    {
      "cell_type": "code",
      "metadata": {
        "id": "0tkLQ4EKi2w3",
        "colab_type": "code",
        "colab": {
          "base_uri": "https://localhost:8080/",
          "height": 34
        },
        "outputId": "c0e8947c-8b33-4d36-b61e-70f5e2dba736"
      },
      "source": [
        "x_new.shape"
      ],
      "execution_count": 121,
      "outputs": [
        {
          "output_type": "execute_result",
          "data": {
            "text/plain": [
              "(784, 56)"
            ]
          },
          "metadata": {
            "tags": []
          },
          "execution_count": 121
        }
      ]
    }
  ]
}